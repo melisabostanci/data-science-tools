{
 "cells": [
  {
   "cell_type": "markdown",
   "id": "25cc330c-5a65-44fc-8d49-61d737bdf3cc",
   "metadata": {},
   "source": [
    "# Data Science Tools and Ecosystem"
   ]
  },
  {
   "cell_type": "markdown",
   "id": "d33ba6c4-69ad-47e6-b6e4-98bbdbbd32b7",
   "metadata": {},
   "source": [
    "This notebook summarizes Data Science Tools and Ecosystem."
   ]
  },
  {
   "cell_type": "markdown",
   "id": "bc4c4b06-a181-477a-b809-55603e0ef2c6",
   "metadata": {},
   "source": [
    "**Goals:**\n",
    "+Data Science libraries\n",
    "+Data Science languages\n",
    "+Arithmetic expressions"
   ]
  },
  {
   "cell_type": "markdown",
   "id": "343b61c3-3943-4500-836b-2f215e13bce9",
   "metadata": {},
   "source": [
    "Some of popular programming languages using by Data Scientist:  "
   ]
  },
  {
   "cell_type": "markdown",
   "id": "3f12ec8f-d022-4b90-a95b-e6d93bb24975",
   "metadata": {},
   "source": [
    "1.Python \n",
    "2.R \n",
    "3.Julia\n",
    "4.Scala \n",
    "5.Java. "
   ]
  },
  {
   "cell_type": "markdown",
   "id": "ace33432-4f86-406b-9a46-2c29efece6f3",
   "metadata": {},
   "source": [
    "Some of the libraries commonly used by data scientists: "
   ]
  },
  {
   "cell_type": "markdown",
   "id": "73db4c32-4b61-42a3-bb14-15095966a0ba",
   "metadata": {},
   "source": [
    "1.Scikitlearn \n",
    "2.Pandas \n",
    "3.Numpy \n",
    "4.ggplot"
   ]
  },
  {
   "cell_type": "markdown",
   "id": "8571ce78-de62-4d2f-8cf9-b591d166e890",
   "metadata": {},
   "source": [
    "|Data Science Tools|\n",
    "|----|\n",
    "|TensorFlow|\n",
    "|Git|\n",
    "|GitHub|"
   ]
  },
  {
   "cell_type": "markdown",
   "id": "ecc0e255-5305-4225-9687-c0f7fe400484",
   "metadata": {},
   "source": [
    "### Below are a few examples of evaluating arithmetic expressions in Python:"
   ]
  },
  {
   "cell_type": "markdown",
   "id": "76945d94-4ea9-450e-b55d-ce019ec3c9b2",
   "metadata": {},
   "source": [
    "_This a simple arithmetic expression to mutiply then add integers._"
   ]
  },
  {
   "cell_type": "code",
   "execution_count": 2,
   "id": "1ec41eba-e61c-4837-9739-af83104940da",
   "metadata": {},
   "outputs": [
    {
     "data": {
      "text/plain": [
       "17"
      ]
     },
     "execution_count": 2,
     "metadata": {},
     "output_type": "execute_result"
    }
   ],
   "source": [
    "(3*4)+5"
   ]
  },
  {
   "cell_type": "markdown",
   "id": "8ee883f5-57f6-42b5-8d8a-4c0226c1486a",
   "metadata": {},
   "source": [
    "_This will convert 200 minutes into hours by dividing it by 60._"
   ]
  },
  {
   "cell_type": "code",
   "execution_count": 3,
   "id": "6a9eb3e1-b8ff-46d6-9409-6fddfa4db5de",
   "metadata": {},
   "outputs": [
    {
     "data": {
      "text/plain": [
       "3.3333333333333335"
      ]
     },
     "execution_count": 3,
     "metadata": {},
     "output_type": "execute_result"
    }
   ],
   "source": [
    "(200/60)"
   ]
  },
  {
   "cell_type": "markdown",
   "id": "1a41d548-bc12-4463-b769-0cc52b2e0691",
   "metadata": {},
   "source": [
    "## Author"
   ]
  },
  {
   "cell_type": "markdown",
   "id": "1ecdf973-42b6-4e2d-94e0-0b263774f39b",
   "metadata": {},
   "source": [
    "Melisa Bostancı"
   ]
  },
  {
   "cell_type": "code",
   "execution_count": null,
   "id": "93d24736-0a0a-45d7-974d-8fadc9798200",
   "metadata": {},
   "outputs": [],
   "source": []
  }
 ],
 "metadata": {
  "kernelspec": {
   "display_name": "Python 3 (ipykernel)",
   "language": "python",
   "name": "python3"
  },
  "language_info": {
   "codemirror_mode": {
    "name": "ipython",
    "version": 3
   },
   "file_extension": ".py",
   "mimetype": "text/x-python",
   "name": "python",
   "nbconvert_exporter": "python",
   "pygments_lexer": "ipython3",
   "version": "3.12.5"
  }
 },
 "nbformat": 4,
 "nbformat_minor": 5
}
